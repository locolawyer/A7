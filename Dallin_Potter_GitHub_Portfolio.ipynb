{
  "nbformat": 4,
  "nbformat_minor": 0,
  "metadata": {
    "colab": {
      "provenance": [],
      "include_colab_link": true
    },
    "kernelspec": {
      "name": "python3",
      "display_name": "Python 3"
    },
    "language_info": {
      "name": "python"
    }
  },
  "cells": [
    {
      "cell_type": "markdown",
      "metadata": {
        "id": "view-in-github",
        "colab_type": "text"
      },
      "source": [
        "<a href=\"https://colab.research.google.com/github/locolawyer/A7/blob/main/Dallin_Potter_GitHub_Portfolio.ipynb\" target=\"_parent\"><img src=\"https://colab.research.google.com/assets/colab-badge.svg\" alt=\"Open In Colab\"/></a>"
      ]
    },
    {
      "cell_type": "markdown",
      "metadata": {
        "id": "OHyAYOWNp68G"
      },
      "source": [
        "# Data Analytics Portfolio\n",
        "Welcome to my Data Analytics portfolio! I am Dallin Potter, a passionate and detail-oriented Data Analytics enthusiast with a strong foundation in extracting valuable insights from data. Within this portfolio, you will find a collection of my class assignments, showcasing my skills and proficiency in various aspects of data analysis.\n",
        "\n",
        "## My Résumé\n",
        "- [Résumé](https://colab.research.google.com/drive/1N5mVQ8d6DodepnkEr-76O7M_hngyFhPG?authuser=3)\n",
        "\n",
        "## Table of Contents\n",
        "1. **Module 1: Using Colab**\n",
        "   - [A1: Markdown CV](https://colab.research.google.com/drive/1rZTcjMjT8rzJ5cXZxCiYcZzJJJwVrm2O?authuser=3)\n",
        "   \n",
        "2. **Module 2: Fundamentals of Programming for Data Analysis**\n",
        "   - [A2 Programming Fundamentals](https://colab.research.google.com/drive/1JLT20aos8oWk5zYP2b0OhUky59QNbQd1?authuser=3)\n",
        "   \n",
        "3. **Module 3: Working with Data**\n",
        "   - [A3 Work with data Yelp Reviews](https://colab.research.google.com/drive/1H7qmFsxyKo1-YZyeqDHqrtrFGZyfi0vv?authuser=3)\n",
        "  \n",
        "4. **Module 4: Stats review**\n",
        "   - [A4 Hypothesis testing](https://colab.research.google.com/drive/1K6qA4hW3U-RxRwGgFYyWd3glMt0c8EcQ?authuser=3) - FB ads and Starbucks promos\n",
        "\n",
        "5. **Module 5: Regression**\n",
        "   - [A5 Regression Analysis](https://colab.research.google.com/drive/1mmKBSwz9n5oF-grWYFqGaGpqX0t9mAv4?authuser=3)\n",
        "\n",
        "6. **Module 6: Clustering and Segmentation**\n",
        "   - [A6 Segmentation](https://colab.research.google.com/drive/17n8mlf7hN-8M9ELTf93N4WTdAHsFR6Zz?usp=sharing&authuser=3#scrollTo=-pLDtx8lmPzq) (retail transactions and behavioral segmentation)\n",
        "   \n",
        "7. **Module 7: Use GitHub to Create Your Assignment Portfolio**\n",
        "    - A7 [List Your Data Analytics Skills](https://github.com/locolawyer/A7/edit/main/README.md)\n",
        "  \n",
        "\n"
      ]
    }
  ]
}